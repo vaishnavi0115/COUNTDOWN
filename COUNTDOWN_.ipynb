{
  "nbformat": 4,
  "nbformat_minor": 0,
  "metadata": {
    "colab": {
      "provenance": []
    },
    "kernelspec": {
      "name": "python3",
      "display_name": "Python 3"
    },
    "language_info": {
      "name": "python"
    }
  },
  "cells": [
    {
      "cell_type": "code",
      "execution_count": 1,
      "metadata": {
        "colab": {
          "base_uri": "https://localhost:8080/"
        },
        "id": "LHDmSkpaIRC6",
        "outputId": "a06faa4b-96b7-405e-c567-040ddff52dec"
      },
      "outputs": [
        {
          "output_type": "stream",
          "name": "stdout",
          "text": [
            "Enter the time in seconds: 5\n",
            "Time is up!\n"
          ]
        }
      ],
      "source": [
        "import time\n",
        "\n",
        "def countdown_timer(seconds):\n",
        "    while seconds:\n",
        "        mins, secs = divmod(seconds, 60)\n",
        "        timeformat = '{:02d}:{:02d}'.format(mins, secs)\n",
        "        print(timeformat, end='\\r')\n",
        "        time.sleep(1)\n",
        "        seconds -= 1\n",
        "    print('Time is up!')\n",
        "\n",
        "if __name__ == '__main__':\n",
        "    try:\n",
        "        t = int(input(\"Enter the time in seconds: \"))\n",
        "        countdown_timer(t)\n",
        "    except ValueError:\n",
        "        print(\"Please enter a valid number.\")\n"
      ]
    }
  ]
}